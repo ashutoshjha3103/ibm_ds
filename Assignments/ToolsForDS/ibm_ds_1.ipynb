{
 "cells": [
  {
   "cell_type": "markdown",
   "id": "ac091336-68d8-4270-9cd8-d360f7f471ac",
   "metadata": {},
   "source": [
    "# My Jupyter Notebook on IBM Watson Studio"
   ]
  },
  {
   "cell_type": "markdown",
   "id": "ebe7e3ad-1487-4299-885f-cf939c592f9f",
   "metadata": {},
   "source": [
    "**Ashutosh Jha**"
   ]
  },
  {
   "cell_type": "markdown",
   "id": "52b8f59f-237f-4033-a457-9bed5662f43e",
   "metadata": {},
   "source": [
    "*I am interested in data science because I like story-telling and contributing in decision making with evidence.*"
   ]
  },
  {
   "cell_type": "markdown",
   "id": "2b0f6243-9ac9-402a-a1a4-22b4b0cb7332",
   "metadata": {},
   "source": [
    "### The below code prints a Polygon."
   ]
  },
  {
   "cell_type": "code",
   "execution_count": 17,
   "id": "a5dd2e6d-acc4-4090-a565-ebcaf6aef37f",
   "metadata": {},
   "outputs": [
    {
     "name": "stdout",
     "output_type": "stream",
     "text": [
      "     *     \n",
      "\n",
      "    ***    \n",
      "\n",
      "   *****   \n",
      "\n",
      "  *******  \n",
      "\n",
      " ********* \n",
      "\n",
      "***********\n",
      "\n",
      "***********\n",
      "\n",
      "  *******  \n",
      "\n",
      "   *****   \n",
      "\n",
      "    ***    \n",
      "\n",
      "     *     \n",
      "\n"
     ]
    }
   ],
   "source": [
    "def star():\n",
    "    l=11\n",
    "    b=11\n",
    "    for i in range(l):\n",
    "        for j in range(b):\n",
    "            if i in [0, 10]:\n",
    "                if j in [5]:\n",
    "                    print(\"*\", end='')\n",
    "                else:\n",
    "                    print(\" \", end='')\n",
    "            elif i in [1, 9]:\n",
    "                if j >= 4 and j <= 6:\n",
    "                    print(\"*\", end='')\n",
    "                else:\n",
    "                    print(\" \", end='')\n",
    "            elif i in [2, 8]:\n",
    "                if j >= 3 and j <= 7:\n",
    "                    print(\"*\", end='')\n",
    "                else:\n",
    "                    print(\" \", end='')\n",
    "            elif i in [3, 7]:\n",
    "                if j >= 2 and j <= 8:\n",
    "                    print(\"*\", end='')\n",
    "                else:\n",
    "                    print(\" \", end='')\n",
    "            elif i in [4, 8]:\n",
    "                if j >= 1 and j <= 9:\n",
    "                    print(\"*\", end='')\n",
    "                else:\n",
    "                    print(\" \", end='')\n",
    "            else:\n",
    "                print(\"*\", end='')\n",
    "        print(\"\\n\")\n",
    "                \n",
    "star()"
   ]
  },
  {
   "cell_type": "markdown",
   "id": "ead1af99-b014-45f2-9aeb-c20c264aba97",
   "metadata": {},
   "source": [
    "1. War\n",
    "2. Huh\n",
    "3. What is it good for?\n",
    "4. Absolutely Nothing!\n",
    "\n",
    "__[Edwin Star: War](https://www.youtube.com/watch?v=ztZI2aLQ9Sw)__\n",
    "\n",
    "~WAR~"
   ]
  },
  {
   "cell_type": "code",
   "execution_count": null,
   "id": "25b3bed2-0785-4868-afba-a94018602626",
   "metadata": {},
   "outputs": [],
   "source": []
  }
 ],
 "metadata": {
  "kernelspec": {
   "display_name": "Python",
   "language": "python",
   "name": "conda-env-python-py"
  },
  "language_info": {
   "codemirror_mode": {
    "name": "ipython",
    "version": 3
   },
   "file_extension": ".py",
   "mimetype": "text/x-python",
   "name": "python",
   "nbconvert_exporter": "python",
   "pygments_lexer": "ipython3",
   "version": "3.7.12"
  }
 },
 "nbformat": 4,
 "nbformat_minor": 5
}
